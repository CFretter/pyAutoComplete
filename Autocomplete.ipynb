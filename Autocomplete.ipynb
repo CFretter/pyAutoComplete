{
 "cells": [
  {
   "cell_type": "code",
   "execution_count": 97,
   "metadata": {
    "collapsed": false
   },
   "outputs": [
    {
     "name": "stdout",
     "output_type": "stream",
     "text": [
      "c : ['ca...2']\n",
      "ca : ['car', 'cat']\n",
      "car : True\n",
      "cap : unknown\n",
      "ba : ['bar']\n",
      "z : ['z2...2', 'zz']\n"
     ]
    }
   ],
   "source": [
    "start=ord('0')\n",
    "space=ord('z')-start+1\n",
    "class AutoComplete:\n",
    "    def __init__(self):\n",
    "        self.root=Node()\n",
    "    def addWord(self,word):\n",
    "        self.root.addWord(word)\n",
    "        \n",
    "    def complete(self,word):\n",
    "        res= self.root.complete(word)\n",
    "        if res==0:\n",
    "            return \"unknown\"\n",
    "        if res==True:\n",
    "            return res\n",
    "        return [word+r for r in res]\n",
    "    def printStruct(self):\n",
    "        self.root.printStruct(\"\")\n",
    "\n",
    "class Node:\n",
    "    def __init__(self):\n",
    "        self.children=[0 for i in range(space)]\n",
    "        self.counter=0\n",
    "        self.leaf=False\n",
    "    def addWord(self,word):\n",
    "       # print \"adding \",word\n",
    "        self.counter+=1\n",
    "        ch= ord(word[0])-start\n",
    "        chi=self.children[ch]\n",
    "        if chi==0:\n",
    "            self.children[ch]=Node()\n",
    "            chi=self.children[ch]\n",
    "        if len(word)==1:\n",
    "            self.children[ch].leaf=True\n",
    "        else:\n",
    "            self.children[ch].addWord(word[1:])\n",
    "    def leafStr(self):\n",
    "        if self.leaf:\n",
    "            return \"\"\n",
    "        if self.counter==1:\n",
    "            for i,c in enumerate(self.children):\n",
    "                if c!=0:\n",
    "                    return chr(i+start)+c.leafStr()\n",
    "        return \"...\"+str(self.counter)\n",
    "    def complete(self,word):\n",
    "        if self.leaf:\n",
    "            return True\n",
    "        if len(word)==0:\n",
    "            return [chr(i+start)+c.leafStr()  for i,c in enumerate(self.children) if c!=0]\n",
    "        ch= ord(word[0])-start\n",
    "        no=self.children[ch]\n",
    "        if no ==0:\n",
    "            return 0\n",
    "        if len(word)==1:\n",
    "            return no.complete(\"\")\n",
    "        else:\n",
    "            return no.complete(word[1:])\n",
    "    def printStruct(self,pre):\n",
    "        print pre\n",
    "        for i,c in enumerate(self.children):\n",
    "            if c!=0:\n",
    "                c.printStruct(pre+chr(i+start))\n",
    "        \n",
    "\n",
    "ac=AutoComplete()\n",
    "ac.addWord(\"car\")\n",
    "ac.addWord(\"cat\")\n",
    "ac.addWord(\"ape\")\n",
    "ac.addWord(\"ace\")\n",
    "ac.addWord(\"bee\")\n",
    "ac.addWord(\"bar\")\n",
    "ac.addWord(\"bct\")\n",
    "\n",
    "ac.addWord(\"zz\")\n",
    "\n",
    "ac.addWord(\"z23\")\n",
    "ac.addWord(\"z24\")\n",
    "#ac.printStruct()\n",
    "def testAC(word):\n",
    "    print word,\":\",ac.complete(word)\n",
    "testAC(\"c\")\n",
    "testAC(\"ca\")\n",
    "testAC(\"car\")\n",
    "\n",
    "testAC(\"cap\")\n",
    "\n",
    "testAC(\"ba\")\n",
    "\n",
    "testAC(\"z\")"
   ]
  },
  {
   "cell_type": "code",
   "execution_count": null,
   "metadata": {
    "collapsed": true
   },
   "outputs": [],
   "source": []
  }
 ],
 "metadata": {
  "kernelspec": {
   "display_name": "Python 2",
   "language": "python",
   "name": "python2"
  },
  "language_info": {
   "codemirror_mode": {
    "name": "ipython",
    "version": 2
   },
   "file_extension": ".py",
   "mimetype": "text/x-python",
   "name": "python",
   "nbconvert_exporter": "python",
   "pygments_lexer": "ipython2",
   "version": "2.7.11"
  }
 },
 "nbformat": 4,
 "nbformat_minor": 0
}
